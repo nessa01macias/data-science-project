{
 "cells": [
  {
   "cell_type": "code",
   "execution_count": 22,
   "id": "d23bdd02",
   "metadata": {},
   "outputs": [
    {
     "name": "stdout",
     "output_type": "stream",
     "text": [
      "Requirement already satisfied: spotipy in c:\\users\\nessa\\anaconda3\\lib\\site-packages (2.22.1)\n",
      "Requirement already satisfied: redis>=3.5.3 in c:\\users\\nessa\\anaconda3\\lib\\site-packages (from spotipy) (4.5.1)\n",
      "Requirement already satisfied: requests>=2.25.0 in c:\\users\\nessa\\anaconda3\\lib\\site-packages (from spotipy) (2.31.0)\n",
      "Requirement already satisfied: six>=1.15.0 in c:\\users\\nessa\\anaconda3\\lib\\site-packages (from spotipy) (1.16.0)\n",
      "Requirement already satisfied: urllib3>=1.26.0 in c:\\users\\nessa\\anaconda3\\lib\\site-packages (from spotipy) (2.1.0)\n",
      "Requirement already satisfied: async-timeout>=4.0.2 in c:\\users\\nessa\\anaconda3\\lib\\site-packages (from redis>=3.5.3->spotipy) (4.0.3)\n",
      "Requirement already satisfied: charset-normalizer<4,>=2 in c:\\users\\nessa\\anaconda3\\lib\\site-packages (from requests>=2.25.0->spotipy) (3.3.2)\n",
      "Requirement already satisfied: idna<4,>=2.5 in c:\\users\\nessa\\anaconda3\\lib\\site-packages (from requests>=2.25.0->spotipy) (3.6)\n",
      "Requirement already satisfied: certifi>=2017.4.17 in c:\\users\\nessa\\anaconda3\\lib\\site-packages (from requests>=2.25.0->spotipy) (2023.11.17)\n",
      "Note: you may need to restart the kernel to use updated packages.\n"
     ]
    },
    {
     "name": "stderr",
     "output_type": "stream",
     "text": [
      "\n",
      "[notice] A new release of pip is available: 24.0 -> 24.2\n",
      "[notice] To update, run: python.exe -m pip install --upgrade pip\n"
     ]
    }
   ],
   "source": [
    "pip install spotify"
   ]
  },
  {
   "cell_type": "code",
   "execution_count": 52,
   "id": "7733f60c",
   "metadata": {},
   "outputs": [],
   "source": [
    "from sqlalchemy import create_engine, Column, Integer, String, Text, ForeignKey, UniqueConstraint\n",
    "from sqlalchemy.orm import sessionmaker, relationship, declarative_base\n",
    "from spotipy.oauth2 import SpotifyClientCredentials\n",
    "from sqlalchemy import select\n",
    "import requests\n",
    "import random\n",
    "import spotipy"
   ]
  },
  {
   "cell_type": "code",
   "execution_count": 29,
   "id": "5caf7fd8",
   "metadata": {},
   "outputs": [],
   "source": [
    "MY_OWN_API = '+ZTJlCkxT1OvdkpNrYq31Q==IPWK1QtYmMeFY8J3'\n",
    "SPOTIFY_CLIENT_ID = ''\n",
    "SPOTIFY_CLIENT_SECRET = ''"
   ]
  },
  {
   "cell_type": "markdown",
   "id": "63839cf5",
   "metadata": {},
   "source": [
    "# Interaction with the API"
   ]
  },
  {
   "cell_type": "code",
   "execution_count": 12,
   "id": "51444ebe",
   "metadata": {},
   "outputs": [],
   "source": [
    "categories = {\n",
    "    \"Neutral\": [\"life\", \"inspirational\", \"hope\", \"future\", \"imagination\"],\n",
    "    \"Joy\": [\"happiness\", \"love\", \"friendship\", \"funny\", \"humor\", \"success\", \"great\", \"good\"],\n",
    "    \"Sadness\": [\"alone\", \"failure\", \"death\"],\n",
    "    \"Fear\": [\"fear\", \"courage\"],\n",
    "    \"Surprise\": [\"amazing\", \"cool\"],\n",
    "    \"Anger\": [\"anger\", \"jealousy\"],\n",
    "    \"Shame\": [\"failure\"],\n",
    "    \"Disgust\": [\"anger\"],\n",
    "}\n"
   ]
  },
  {
   "cell_type": "code",
   "execution_count": 14,
   "id": "fae67be0",
   "metadata": {},
   "outputs": [],
   "source": [
    "def get_quote_by_emotion(emotion):\n",
    "    if emotion not in categories:\n",
    "        print(f\"No categories mapped for emotion: {emotion}\")\n",
    "        return None\n",
    "    \n",
    "    # we shuffle the categories to add randomness\n",
    "    emotion_categories = categories[emotion]\n",
    "    random.shuffle(emotion_categories)\n",
    "    \n",
    "    for category in emotion_categories:\n",
    "        api_url = f'https://api.api-ninjas.com/v1/quotes?category={category}'\n",
    "        response = requests.get(api_url, headers={'X-Api-Key': MY_OWN_API})\n",
    "        if response.status_code == requests.codes.ok:\n",
    "            data = response.json()\n",
    "            if data:\n",
    "                quote_text = data[0]['quote']\n",
    "                author = data[0]['author']\n",
    "                return {\n",
    "                    'quote': quote_text,\n",
    "                    'author': author,\n",
    "                    'category': category,\n",
    "                    'emotion': emotion\n",
    "                }\n",
    "        else:\n",
    "            print(f\"Error: {response.status_code} {response.text}\")\n",
    "    print(f\"No quotes found for emotion: {emotion}\")\n",
    "    return None"
   ]
  },
  {
   "cell_type": "code",
   "execution_count": 57,
   "id": "8f9d2fff",
   "metadata": {},
   "outputs": [
    {
     "name": "stdout",
     "output_type": "stream",
     "text": [
      "Recommended Quote for Joy:\n",
      "\"Sometimes, comics will make the observation that it's not jokes that are funny, it's characters that are funny. And isn't that true! That's why I always kill jokes. I'm terrible at them, because I get the joke right, but I can't get the character right, and it just goes down like a lead balloon.\" - David Mitchell\n"
     ]
    }
   ],
   "source": [
    "# this is just a test, the real emotion should come from my AI model\n",
    "emotion_detected = 'Joy'  \n",
    "quote_data = get_quote_by_emotion(emotion_detected)\n",
    "if quote_data:\n",
    "    print(f\"Recommended Quote for {emotion_detected}:\")\n",
    "    print(f\"\\\"{quote_data['quote']}\\\" - {quote_data['author']}\")\n",
    "else:\n",
    "    print(\"Could not find a quote.\")"
   ]
  },
  {
   "cell_type": "markdown",
   "id": "bcb338c9",
   "metadata": {},
   "source": [
    "# Interaction with the DB"
   ]
  },
  {
   "cell_type": "code",
   "execution_count": 45,
   "id": "4555cf26",
   "metadata": {},
   "outputs": [],
   "source": [
    "from sqlalchemy import create_engine, Column, Integer, String, Text, ForeignKey, UniqueConstraint\n",
    "from sqlalchemy.orm import sessionmaker, relationship, declarative_base\n",
    "\n",
    "# SQLAlchemy 2.0's declarative_base is imported differently\n",
    "Base = declarative_base()\n",
    "\n",
    "# Define the Quote table\n",
    "class Quote(Base):\n",
    "    __tablename__ = 'quotes'\n",
    "    quote_id = Column(Integer, primary_key=True)\n",
    "    text = Column(Text, unique=True)  # The quote text should be unique\n",
    "    author = Column(String)\n",
    "    category = Column(String)\n",
    "    emotion = Column(String)\n",
    "    feedbacks = relationship('UserFeedback', back_populates='quote')  # Relationship to feedback\n",
    "\n",
    "# Define the User table\n",
    "class User(Base):\n",
    "    __tablename__ = 'users'\n",
    "    user_id = Column(Integer, primary_key=True)\n",
    "    username = Column(String, unique=True)  # Unique username for identification\n",
    "    feedbacks = relationship('UserFeedback', back_populates='user')\n",
    "\n",
    "# Define the UserFeedback table for thumbs up/down\n",
    "class UserFeedback(Base):\n",
    "    __tablename__ = 'user_feedback'\n",
    "    feedback_id = Column(Integer, primary_key=True)\n",
    "    user_id = Column(Integer, ForeignKey('users.user_id'))\n",
    "    quote_id = Column(Integer, ForeignKey('quotes.quote_id'))\n",
    "    feedback = Column(String)  # 'thumbs_up' or 'thumbs_down'\n",
    "\n",
    "    user = relationship('User', back_populates='feedbacks')\n",
    "    quote = relationship('Quote', back_populates='feedbacks')\n",
    "\n",
    "    __table_args__ = (UniqueConstraint('user_id', 'quote_id', name='_user_quote_uc'),)"
   ]
  },
  {
   "cell_type": "code",
   "execution_count": 46,
   "id": "26b432e0",
   "metadata": {},
   "outputs": [],
   "source": [
    "# Create the SQLite database\n",
    "engine = create_engine('sqlite:///quotes.db')\n",
    "\n",
    "# Create the session\n",
    "Session = sessionmaker(bind=engine)\n",
    "session = Session()\n",
    "\n",
    "# Create all tables in the database\n",
    "Base.metadata.create_all(engine)"
   ]
  },
  {
   "cell_type": "code",
   "execution_count": 47,
   "id": "7130dab9",
   "metadata": {},
   "outputs": [],
   "source": [
    "def save_quote_to_db(quote_data):\n",
    "    # Check if the quote already exists in the database\n",
    "    existing_quote = session.query(Quote).filter_by(text=quote_data['quote']).first()\n",
    "    \n",
    "    # If the quote doesn't exist, create a new entry\n",
    "    if not existing_quote:\n",
    "        new_quote = Quote(\n",
    "            text=quote_data['quote'],\n",
    "            author=quote_data['author'],\n",
    "            category=quote_data['category'],\n",
    "            emotion=quote_data['emotion']\n",
    "        )\n",
    "        session.add(new_quote)\n",
    "        session.commit()\n",
    "        return new_quote\n",
    "    return existing_quote  # If the quote already exists, return the existing record"
   ]
  },
  {
   "cell_type": "code",
   "execution_count": 48,
   "id": "5ba4b7e8",
   "metadata": {},
   "outputs": [],
   "source": [
    "def save_user_feedback(user_id, quote_id, feedback):\n",
    "    # Check if the user has already given feedback for this quote\n",
    "    existing_feedback = session.query(UserFeedback).filter_by(user_id=user_id, quote_id=quote_id).first()\n",
    "    \n",
    "    # If the feedback doesn't exist, create a new feedback entry\n",
    "    if not existing_feedback:\n",
    "        new_feedback = UserFeedback(\n",
    "            user_id=user_id,\n",
    "            quote_id=quote_id,\n",
    "            feedback=feedback  # e.g., 'thumbs_up' or 'thumbs_down'\n",
    "        )\n",
    "        session.add(new_feedback)\n",
    "        session.commit()\n",
    "    else:\n",
    "        # If feedback already exists, update the feedback\n",
    "        existing_feedback.feedback = feedback\n",
    "        session.commit()"
   ]
  },
  {
   "cell_type": "code",
   "execution_count": 51,
   "id": "e8ec4d3a",
   "metadata": {},
   "outputs": [],
   "source": [
    "def get_quote_for_user(emotion, user_id):\n",
    "    # Step 1: Try to get quotes the user liked for this emotion\n",
    "    liked_quotes = session.query(Quote).join(UserFeedback).filter(\n",
    "        UserFeedback.user_id == user_id,\n",
    "        UserFeedback.feedback == 'thumbs_up',\n",
    "        Quote.emotion == emotion\n",
    "    ).all()\n",
    "\n",
    "    # If the user has liked quotes, prioritize showing those first\n",
    "    if liked_quotes:\n",
    "        return random.choice(liked_quotes)\n",
    "\n",
    "    # Step 2: Get quotes the user hasn't seen yet (unseen quotes)\n",
    "    # Explicitly turn the subquery into a select() statement\n",
    "    seen_quote_ids = select(UserFeedback.quote_id).filter_by(user_id=user_id)\n",
    "    \n",
    "    unseen_quotes = session.query(Quote).filter(\n",
    "        Quote.emotion == emotion,\n",
    "        ~Quote.quote_id.in_(seen_quote_ids)\n",
    "    ).all()\n",
    "\n",
    "    # If there are unseen quotes, return one randomly\n",
    "    if unseen_quotes:\n",
    "        return random.choice(unseen_quotes)\n",
    "\n",
    "    # Step 3: If all quotes have been seen, return any quote for the emotion\n",
    "    any_quotes = session.query(Quote).filter_by(emotion=emotion).all()\n",
    "    if any_quotes:\n",
    "        return random.choice(any_quotes)\n",
    "\n",
    "    # Step 4: If no quotes are found in the database, fetch from the API\n",
    "    quote_data = get_quote_by_emotion(emotion)\n",
    "    if quote_data:\n",
    "        saved_quote = save_quote_to_db(quote_data)\n",
    "        return saved_quote\n",
    "\n",
    "    return None  # If no quote is found in any step\n"
   ]
  },
  {
   "cell_type": "markdown",
   "id": "e43423d8",
   "metadata": {},
   "source": [
    "# Recommending songs - not done"
   ]
  },
  {
   "cell_type": "code",
   "execution_count": 32,
   "id": "fa9f34ef",
   "metadata": {},
   "outputs": [],
   "source": [
    "song_categories = {\n",
    "    \"Neutral\": [\"playlist_id_neutral\"],\n",
    "    \"Joy\": [\"playlist_id_joy\"],\n",
    "    \"Sadness\": [\"playlist_id_sadness\"],\n",
    "    \"Fear\": [\"playlist_id_fear\"],\n",
    "    \"Surprise\": [\"playlist_id_surprise\"],\n",
    "    \"Anger\": [\"playlist_id_anger\"],\n",
    "    \"Shame\": [\"playlist_id_shame\"],\n",
    "    \"Disgust\": [\"playlist_id_disgust\"]\n",
    "}"
   ]
  },
  {
   "cell_type": "code",
   "execution_count": null,
   "id": "c388cb83",
   "metadata": {},
   "outputs": [],
   "source": [
    "def get_song_by_emotion(motion):\n",
    "    playlist_ids = song_categories.get(emotion, [])\n",
    "    \n",
    "    if not playlist_ids:\n",
    "        print(f\"No playlists mapped for emotion: {emotion}\")\n",
    "        return None\n",
    "    \n",
    "    # Choose a random playlist for variety\n",
    "    playlist_id = random.choice(playlist_ids)\n",
    "    \n",
    "    # Fetch tracks from the selected playlist\n",
    "    results = sp.playlist_tracks(playlist_id)\n",
    "    tracks = results['items']\n",
    "    \n",
    "    # If tracks are found, choose one randomly and return its details\n",
    "    if tracks:\n",
    "        track = random.choice(tracks)\n",
    "        track_info = {\n",
    "            'song_name': track['track']['name'],\n",
    "            'artist': track['track']['artists'][0]['name'],\n",
    "            'url': track['track']['external_urls']['spotify']\n",
    "        }\n",
    "        return track_info\n",
    "    else:\n",
    "        print(f\"No tracks found in playlist: {playlist_id}\")\n",
    "        return None"
   ]
  },
  {
   "cell_type": "code",
   "execution_count": null,
   "id": "e580f8f7",
   "metadata": {},
   "outputs": [],
   "source": [
    "client_credentials_manager = SpotifyClientCredentials(client_id=SPOTIFY_CLIENT_ID, client_secret=SPOTIFY_CLIENT_SECRET)\n",
    "\n",
    "sp = spotipy.Spotify(client_credentials_manager=client_credentials_manager)"
   ]
  },
  {
   "cell_type": "markdown",
   "id": "d351f73b",
   "metadata": {},
   "source": [
    "# Testing emotions"
   ]
  },
  {
   "cell_type": "code",
   "execution_count": 56,
   "id": "0a02a081",
   "metadata": {},
   "outputs": [
    {
     "name": "stdout",
     "output_type": "stream",
     "text": [
      "Quote for Joy: \"If I didn't try to eavesdrop on every bus ride I take or look for the humor when I go for a walk, I would just be depressed all the time.\" - Lynda Barry\n",
      "Feedback ('thumbs_up') saved for user 1 on quote ID 1.\n",
      "Quote for Joy: \"If I didn't try to eavesdrop on every bus ride I take or look for the humor when I go for a walk, I would just be depressed all the time.\" - Lynda Barry\n"
     ]
    }
   ],
   "source": [
    "# Step 1: User requests a quote for 'Joy'\n",
    "emotion_detected = 'Joy'\n",
    "user_id = 1\n",
    "\n",
    "quote = get_quote_for_user(emotion_detected, user_id)\n",
    "\n",
    "if quote:\n",
    "    print(f\"Quote for {emotion_detected}: \\\"{quote.text}\\\" - {quote.author}\")\n",
    "    \n",
    "    # Simulate feedback (user likes the quote)\n",
    "    user_feedback = 'thumbs_up'\n",
    "    save_user_feedback(user_id, quote.quote_id, user_feedback)\n",
    "    print(f\"Feedback ('{user_feedback}') saved for user {user_id} on quote ID {quote.quote_id}.\")\n",
    "else:\n",
    "    print(\"No quote found.\")\n",
    "\n",
    "# Step 2: User requests another quote for 'Joy' (system should prioritize liked quotes)\n",
    "quote = get_quote_for_user(emotion_detected, user_id)\n",
    "\n",
    "if quote:\n",
    "    print(f\"Quote for {emotion_detected}: \\\"{quote.text}\\\" - {quote.author}\")\n",
    "else:\n",
    "    print(\"No quote found.\")"
   ]
  },
  {
   "cell_type": "markdown",
   "id": "55be8e0b",
   "metadata": {},
   "source": [
    "# API endpoints to implement"
   ]
  },
  {
   "cell_type": "code",
   "execution_count": 26,
   "id": "df2f3ad9",
   "metadata": {},
   "outputs": [
    {
     "ename": "SyntaxError",
     "evalue": "invalid syntax (4156581683.py, line 1)",
     "output_type": "error",
     "traceback": [
      "\u001b[1;36m  File \u001b[1;32m\"C:\\Users\\nessa\\AppData\\Local\\Temp\\ipykernel_1820\\4156581683.py\"\u001b[1;36m, line \u001b[1;32m1\u001b[0m\n\u001b[1;33m    @app.route('/get_recommendations', methods=['POST']):\u001b[0m\n\u001b[1;37m                                                        ^\u001b[0m\n\u001b[1;31mSyntaxError\u001b[0m\u001b[1;31m:\u001b[0m invalid syntax\n"
     ]
    }
   ],
   "source": [
    "@app.route('/get_recommendations', methods=['POST']):\n",
    "    # 1. we get username coming from front end\n",
    "    # 2. call AI method to get an emotion\n",
    "    # 3. querying by user username to get user_id\n",
    "    # 4. getting our quote\n",
    "    quote = get_quote_for_user(emotion, user_id)\n",
    "    # 5. getting our song\n",
    "    song = get_song_by_emotion(emotion)\n",
    "    # 6. sending to the frontend\n",
    "    response = {\n",
    "        'quote': {\n",
    "            'text': quote.text,\n",
    "            'author': quote.author\n",
    "            },\n",
    "        'song': song\n",
    "        }"
   ]
  }
 ],
 "metadata": {
  "kernelspec": {
   "display_name": "Python 3 (ipykernel)",
   "language": "python",
   "name": "python3"
  },
  "language_info": {
   "codemirror_mode": {
    "name": "ipython",
    "version": 3
   },
   "file_extension": ".py",
   "mimetype": "text/x-python",
   "name": "python",
   "nbconvert_exporter": "python",
   "pygments_lexer": "ipython3",
   "version": "3.9.13"
  }
 },
 "nbformat": 4,
 "nbformat_minor": 5
}
